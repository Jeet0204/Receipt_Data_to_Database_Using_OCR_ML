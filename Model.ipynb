{
  "nbformat": 4,
  "nbformat_minor": 0,
  "metadata": {
    "colab": {
      "name": "Model.ipynb",
      "version": "0.3.2",
      "provenance": []
    },
    "kernelspec": {
      "name": "python3",
      "display_name": "Python 3"
    }
  },
  "cells": [
    {
      "cell_type": "markdown",
      "metadata": {
        "id": "view-in-github",
        "colab_type": "text"
      },
      "source": [
        "[View in Colaboratory](https://colab.research.google.com/github/Jeet0204/Receipt_Data_to_Database_Using_OCR_ML/blob/master/Model.ipynb)"
      ]
    },
    {
      "metadata": {
        "id": "4fsXk70cy5Jz",
        "colab_type": "text"
      },
      "cell_type": "markdown",
      "source": [
        "**Downloading the tensorflow library and module of nltk library**"
      ]
    },
    {
      "metadata": {
        "id": "MK03oVvXeFL-",
        "colab_type": "code",
        "colab": {
          "base_uri": "https://localhost:8080/",
          "height": 153
        },
        "outputId": "03014a33-dcaf-4ccf-f222-9b5cd99e195e"
      },
      "cell_type": "code",
      "source": [
        "!pip install tflearn\n",
        "import nltk\n",
        "nltk.download('punkt')"
      ],
      "execution_count": 182,
      "outputs": [
        {
          "output_type": "stream",
          "text": [
            "Requirement already satisfied: tflearn in /usr/local/lib/python3.6/dist-packages (0.3.2)\r\n",
            "Requirement already satisfied: Pillow in /usr/local/lib/python3.6/dist-packages (from tflearn) (4.0.0)\r\n",
            "Requirement already satisfied: numpy in /usr/local/lib/python3.6/dist-packages (from tflearn) (1.14.3)\r\n",
            "Requirement already satisfied: six in /usr/local/lib/python3.6/dist-packages (from tflearn) (1.11.0)\n",
            "Requirement already satisfied: olefile in /usr/local/lib/python3.6/dist-packages (from Pillow->tflearn) (0.45.1)\n",
            "[nltk_data] Downloading package punkt to /content/nltk_data...\n",
            "[nltk_data]   Package punkt is already up-to-date!\n"
          ],
          "name": "stdout"
        },
        {
          "output_type": "execute_result",
          "data": {
            "text/plain": [
              "True"
            ]
          },
          "metadata": {
            "tags": []
          },
          "execution_count": 182
        }
      ]
    },
    {
      "metadata": {
        "id": "-39_Q13eyvbS",
        "colab_type": "text"
      },
      "cell_type": "markdown",
      "source": [
        "**Importing the created json file**"
      ]
    },
    {
      "metadata": {
        "id": "oNgT3HYpx4WR",
        "colab_type": "code",
        "colab": {
          "resources": {
            "http://localhost:8080/nbextensions/google.colab/files.js": {
              "data": "Ly8gQ29weXJpZ2h0IDIwMTcgR29vZ2xlIExMQwovLwovLyBMaWNlbnNlZCB1bmRlciB0aGUgQXBhY2hlIExpY2Vuc2UsIFZlcnNpb24gMi4wICh0aGUgIkxpY2Vuc2UiKTsKLy8geW91IG1heSBub3QgdXNlIHRoaXMgZmlsZSBleGNlcHQgaW4gY29tcGxpYW5jZSB3aXRoIHRoZSBMaWNlbnNlLgovLyBZb3UgbWF5IG9idGFpbiBhIGNvcHkgb2YgdGhlIExpY2Vuc2UgYXQKLy8KLy8gICAgICBodHRwOi8vd3d3LmFwYWNoZS5vcmcvbGljZW5zZXMvTElDRU5TRS0yLjAKLy8KLy8gVW5sZXNzIHJlcXVpcmVkIGJ5IGFwcGxpY2FibGUgbGF3IG9yIGFncmVlZCB0byBpbiB3cml0aW5nLCBzb2Z0d2FyZQovLyBkaXN0cmlidXRlZCB1bmRlciB0aGUgTGljZW5zZSBpcyBkaXN0cmlidXRlZCBvbiBhbiAiQVMgSVMiIEJBU0lTLAovLyBXSVRIT1VUIFdBUlJBTlRJRVMgT1IgQ09ORElUSU9OUyBPRiBBTlkgS0lORCwgZWl0aGVyIGV4cHJlc3Mgb3IgaW1wbGllZC4KLy8gU2VlIHRoZSBMaWNlbnNlIGZvciB0aGUgc3BlY2lmaWMgbGFuZ3VhZ2UgZ292ZXJuaW5nIHBlcm1pc3Npb25zIGFuZAovLyBsaW1pdGF0aW9ucyB1bmRlciB0aGUgTGljZW5zZS4KCi8qKgogKiBAZmlsZW92ZXJ2aWV3IEhlbHBlcnMgZm9yIGdvb2dsZS5jb2xhYiBQeXRob24gbW9kdWxlLgogKi8KKGZ1bmN0aW9uKHNjb3BlKSB7CmZ1bmN0aW9uIHNwYW4odGV4dCwgc3R5bGVBdHRyaWJ1dGVzID0ge30pIHsKICBjb25zdCBlbGVtZW50ID0gZG9jdW1lbnQuY3JlYXRlRWxlbWVudCgnc3BhbicpOwogIGVsZW1lbnQudGV4dENvbnRlbnQgPSB0ZXh0OwogIGZvciAoY29uc3Qga2V5IG9mIE9iamVjdC5rZXlzKHN0eWxlQXR0cmlidXRlcykpIHsKICAgIGVsZW1lbnQuc3R5bGVba2V5XSA9IHN0eWxlQXR0cmlidXRlc1trZXldOwogIH0KICByZXR1cm4gZWxlbWVudDsKfQoKLy8gTWF4IG51bWJlciBvZiBieXRlcyB3aGljaCB3aWxsIGJlIHVwbG9hZGVkIGF0IGEgdGltZS4KY29uc3QgTUFYX1BBWUxPQURfU0laRSA9IDEwMCAqIDEwMjQ7Ci8vIE1heCBhbW91bnQgb2YgdGltZSB0byBibG9jayB3YWl0aW5nIGZvciB0aGUgdXNlci4KY29uc3QgRklMRV9DSEFOR0VfVElNRU9VVF9NUyA9IDMwICogMTAwMDsKCmZ1bmN0aW9uIF91cGxvYWRGaWxlcyhpbnB1dElkLCBvdXRwdXRJZCkgewogIGNvbnN0IHN0ZXBzID0gdXBsb2FkRmlsZXNTdGVwKGlucHV0SWQsIG91dHB1dElkKTsKICBjb25zdCBvdXRwdXRFbGVtZW50ID0gZG9jdW1lbnQuZ2V0RWxlbWVudEJ5SWQob3V0cHV0SWQpOwogIC8vIENhY2hlIHN0ZXBzIG9uIHRoZSBvdXRwdXRFbGVtZW50IHRvIG1ha2UgaXQgYXZhaWxhYmxlIGZvciB0aGUgbmV4dCBjYWxsCiAgLy8gdG8gdXBsb2FkRmlsZXNDb250aW51ZSBmcm9tIFB5dGhvbi4KICBvdXRwdXRFbGVtZW50LnN0ZXBzID0gc3RlcHM7CgogIHJldHVybiBfdXBsb2FkRmlsZXNDb250aW51ZShvdXRwdXRJZCk7Cn0KCi8vIFRoaXMgaXMgcm91Z2hseSBhbiBhc3luYyBnZW5lcmF0b3IgKG5vdCBzdXBwb3J0ZWQgaW4gdGhlIGJyb3dzZXIgeWV0KSwKLy8gd2hlcmUgdGhlcmUgYXJlIG11bHRpcGxlIGFzeW5jaHJvbm91cyBzdGVwcyBhbmQgdGhlIFB5dGhvbiBzaWRlIGlzIGdvaW5nCi8vIHRvIHBvbGwgZm9yIGNvbXBsZXRpb24gb2YgZWFjaCBzdGVwLgovLyBUaGlzIHVzZXMgYSBQcm9taXNlIHRvIGJsb2NrIHRoZSBweXRob24gc2lkZSBvbiBjb21wbGV0aW9uIG9mIGVhY2ggc3RlcCwKLy8gdGhlbiBwYXNzZXMgdGhlIHJlc3VsdCBvZiB0aGUgcHJldmlvdXMgc3RlcCBhcyB0aGUgaW5wdXQgdG8gdGhlIG5leHQgc3RlcC4KZnVuY3Rpb24gX3VwbG9hZEZpbGVzQ29udGludWUob3V0cHV0SWQpIHsKICBjb25zdCBvdXRwdXRFbGVtZW50ID0gZG9jdW1lbnQuZ2V0RWxlbWVudEJ5SWQob3V0cHV0SWQpOwogIGNvbnN0IHN0ZXBzID0gb3V0cHV0RWxlbWVudC5zdGVwczsKCiAgY29uc3QgbmV4dCA9IHN0ZXBzLm5leHQob3V0cHV0RWxlbWVudC5sYXN0UHJvbWlzZVZhbHVlKTsKICByZXR1cm4gUHJvbWlzZS5yZXNvbHZlKG5leHQudmFsdWUucHJvbWlzZSkudGhlbigodmFsdWUpID0+IHsKICAgIC8vIENhY2hlIHRoZSBsYXN0IHByb21pc2UgdmFsdWUgdG8gbWFrZSBpdCBhdmFpbGFibGUgdG8gdGhlIG5leHQKICAgIC8vIHN0ZXAgb2YgdGhlIGdlbmVyYXRvci4KICAgIG91dHB1dEVsZW1lbnQubGFzdFByb21pc2VWYWx1ZSA9IHZhbHVlOwogICAgcmV0dXJuIG5leHQudmFsdWUucmVzcG9uc2U7CiAgfSk7Cn0KCi8qKgogKiBHZW5lcmF0b3IgZnVuY3Rpb24gd2hpY2ggaXMgY2FsbGVkIGJldHdlZW4gZWFjaCBhc3luYyBzdGVwIG9mIHRoZSB1cGxvYWQKICogcHJvY2Vzcy4KICogQHBhcmFtIHtzdHJpbmd9IGlucHV0SWQgRWxlbWVudCBJRCBvZiB0aGUgaW5wdXQgZmlsZSBwaWNrZXIgZWxlbWVudC4KICogQHBhcmFtIHtzdHJpbmd9IG91dHB1dElkIEVsZW1lbnQgSUQgb2YgdGhlIG91dHB1dCBkaXNwbGF5LgogKiBAcmV0dXJuIHshSXRlcmFibGU8IU9iamVjdD59IEl0ZXJhYmxlIG9mIG5leHQgc3RlcHMuCiAqLwpmdW5jdGlvbiogdXBsb2FkRmlsZXNTdGVwKGlucHV0SWQsIG91dHB1dElkKSB7CiAgY29uc3QgaW5wdXRFbGVtZW50ID0gZG9jdW1lbnQuZ2V0RWxlbWVudEJ5SWQoaW5wdXRJZCk7CiAgaW5wdXRFbGVtZW50LmRpc2FibGVkID0gZmFsc2U7CgogIGNvbnN0IG91dHB1dEVsZW1lbnQgPSBkb2N1bWVudC5nZXRFbGVtZW50QnlJZChvdXRwdXRJZCk7CiAgb3V0cHV0RWxlbWVudC5pbm5lckhUTUwgPSAnJzsKCiAgY29uc3QgcGlja2VkUHJvbWlzZSA9IG5ldyBQcm9taXNlKChyZXNvbHZlKSA9PiB7CiAgICBpbnB1dEVsZW1lbnQuYWRkRXZlbnRMaXN0ZW5lcignY2hhbmdlJywgKGUpID0+IHsKICAgICAgcmVzb2x2ZShlLnRhcmdldC5maWxlcyk7CiAgICB9KTsKICB9KTsKCiAgY29uc3QgY2FuY2VsID0gZG9jdW1lbnQuY3JlYXRlRWxlbWVudCgnYnV0dG9uJyk7CiAgaW5wdXRFbGVtZW50LnBhcmVudEVsZW1lbnQuYXBwZW5kQ2hpbGQoY2FuY2VsKTsKICBjYW5jZWwudGV4dENvbnRlbnQgPSAnQ2FuY2VsIHVwbG9hZCc7CiAgY29uc3QgY2FuY2VsUHJvbWlzZSA9IG5ldyBQcm9taXNlKChyZXNvbHZlKSA9PiB7CiAgICBjYW5jZWwub25jbGljayA9ICgpID0+IHsKICAgICAgcmVzb2x2ZShudWxsKTsKICAgIH07CiAgfSk7CgogIC8vIENhbmNlbCB1cGxvYWQgaWYgdXNlciBoYXNuJ3QgcGlja2VkIGFueXRoaW5nIGluIHRpbWVvdXQuCiAgY29uc3QgdGltZW91dFByb21pc2UgPSBuZXcgUHJvbWlzZSgocmVzb2x2ZSkgPT4gewogICAgc2V0VGltZW91dCgoKSA9PiB7CiAgICAgIHJlc29sdmUobnVsbCk7CiAgICB9LCBGSUxFX0NIQU5HRV9USU1FT1VUX01TKTsKICB9KTsKCiAgLy8gV2FpdCBmb3IgdGhlIHVzZXIgdG8gcGljayB0aGUgZmlsZXMuCiAgY29uc3QgZmlsZXMgPSB5aWVsZCB7CiAgICBwcm9taXNlOiBQcm9taXNlLnJhY2UoW3BpY2tlZFByb21pc2UsIHRpbWVvdXRQcm9taXNlLCBjYW5jZWxQcm9taXNlXSksCiAgICByZXNwb25zZTogewogICAgICBhY3Rpb246ICdzdGFydGluZycsCiAgICB9CiAgfTsKCiAgaWYgKCFmaWxlcykgewogICAgcmV0dXJuIHsKICAgICAgcmVzcG9uc2U6IHsKICAgICAgICBhY3Rpb246ICdjb21wbGV0ZScsCiAgICAgIH0KICAgIH07CiAgfQoKICBjYW5jZWwucmVtb3ZlKCk7CgogIC8vIERpc2FibGUgdGhlIGlucHV0IGVsZW1lbnQgc2luY2UgZnVydGhlciBwaWNrcyBhcmUgbm90IGFsbG93ZWQuCiAgaW5wdXRFbGVtZW50LmRpc2FibGVkID0gdHJ1ZTsKCiAgZm9yIChjb25zdCBmaWxlIG9mIGZpbGVzKSB7CiAgICBjb25zdCBsaSA9IGRvY3VtZW50LmNyZWF0ZUVsZW1lbnQoJ2xpJyk7CiAgICBsaS5hcHBlbmQoc3BhbihmaWxlLm5hbWUsIHtmb250V2VpZ2h0OiAnYm9sZCd9KSk7CiAgICBsaS5hcHBlbmQoc3BhbigKICAgICAgICBgKCR7ZmlsZS50eXBlIHx8ICduL2EnfSkgLSAke2ZpbGUuc2l6ZX0gYnl0ZXMsIGAgKwogICAgICAgIGBsYXN0IG1vZGlmaWVkOiAkewogICAgICAgICAgICBmaWxlLmxhc3RNb2RpZmllZERhdGUgPyBmaWxlLmxhc3RNb2RpZmllZERhdGUudG9Mb2NhbGVEYXRlU3RyaW5nKCkgOgogICAgICAgICAgICAgICAgICAgICAgICAgICAgICAgICAgICAnbi9hJ30gLSBgKSk7CiAgICBjb25zdCBwZXJjZW50ID0gc3BhbignMCUgZG9uZScpOwogICAgbGkuYXBwZW5kQ2hpbGQocGVyY2VudCk7CgogICAgb3V0cHV0RWxlbWVudC5hcHBlbmRDaGlsZChsaSk7CgogICAgY29uc3QgZmlsZURhdGFQcm9taXNlID0gbmV3IFByb21pc2UoKHJlc29sdmUpID0+IHsKICAgICAgY29uc3QgcmVhZGVyID0gbmV3IEZpbGVSZWFkZXIoKTsKICAgICAgcmVhZGVyLm9ubG9hZCA9IChlKSA9PiB7CiAgICAgICAgcmVzb2x2ZShlLnRhcmdldC5yZXN1bHQpOwogICAgICB9OwogICAgICByZWFkZXIucmVhZEFzQXJyYXlCdWZmZXIoZmlsZSk7CiAgICB9KTsKICAgIC8vIFdhaXQgZm9yIHRoZSBkYXRhIHRvIGJlIHJlYWR5LgogICAgbGV0IGZpbGVEYXRhID0geWllbGQgewogICAgICBwcm9taXNlOiBmaWxlRGF0YVByb21pc2UsCiAgICAgIHJlc3BvbnNlOiB7CiAgICAgICAgYWN0aW9uOiAnY29udGludWUnLAogICAgICB9CiAgICB9OwoKICAgIC8vIFVzZSBhIGNodW5rZWQgc2VuZGluZyB0byBhdm9pZCBtZXNzYWdlIHNpemUgbGltaXRzLiBTZWUgYi82MjExNTY2MC4KICAgIGxldCBwb3NpdGlvbiA9IDA7CiAgICB3aGlsZSAocG9zaXRpb24gPCBmaWxlRGF0YS5ieXRlTGVuZ3RoKSB7CiAgICAgIGNvbnN0IGxlbmd0aCA9IE1hdGgubWluKGZpbGVEYXRhLmJ5dGVMZW5ndGggLSBwb3NpdGlvbiwgTUFYX1BBWUxPQURfU0laRSk7CiAgICAgIGNvbnN0IGNodW5rID0gbmV3IFVpbnQ4QXJyYXkoZmlsZURhdGEsIHBvc2l0aW9uLCBsZW5ndGgpOwogICAgICBwb3NpdGlvbiArPSBsZW5ndGg7CgogICAgICBjb25zdCBiYXNlNjQgPSBidG9hKFN0cmluZy5mcm9tQ2hhckNvZGUuYXBwbHkobnVsbCwgY2h1bmspKTsKICAgICAgeWllbGQgewogICAgICAgIHJlc3BvbnNlOiB7CiAgICAgICAgICBhY3Rpb246ICdhcHBlbmQnLAogICAgICAgICAgZmlsZTogZmlsZS5uYW1lLAogICAgICAgICAgZGF0YTogYmFzZTY0LAogICAgICAgIH0sCiAgICAgIH07CiAgICAgIHBlcmNlbnQudGV4dENvbnRlbnQgPQogICAgICAgICAgYCR7TWF0aC5yb3VuZCgocG9zaXRpb24gLyBmaWxlRGF0YS5ieXRlTGVuZ3RoKSAqIDEwMCl9JSBkb25lYDsKICAgIH0KICB9CgogIC8vIEFsbCBkb25lLgogIHlpZWxkIHsKICAgIHJlc3BvbnNlOiB7CiAgICAgIGFjdGlvbjogJ2NvbXBsZXRlJywKICAgIH0KICB9Owp9CgpzY29wZS5nb29nbGUgPSBzY29wZS5nb29nbGUgfHwge307CnNjb3BlLmdvb2dsZS5jb2xhYiA9IHNjb3BlLmdvb2dsZS5jb2xhYiB8fCB7fTsKc2NvcGUuZ29vZ2xlLmNvbGFiLl9maWxlcyA9IHsKICBfdXBsb2FkRmlsZXMsCiAgX3VwbG9hZEZpbGVzQ29udGludWUsCn07Cn0pKHNlbGYpOwo=",
              "ok": true,
              "headers": [
                [
                  "content-type",
                  "application/javascript"
                ]
              ],
              "status": 200,
              "status_text": ""
            }
          },
          "base_uri": "https://localhost:8080/",
          "height": 109
        },
        "outputId": "4e8235ef-ca71-404e-d1e2-cfbff99c2dc2"
      },
      "cell_type": "code",
      "source": [
        "from google.colab import files\n",
        "files.upload()"
      ],
      "execution_count": 1,
      "outputs": [
        {
          "output_type": "display_data",
          "data": {
            "text/html": [
              "\n",
              "     <input type=\"file\" id=\"files-78a54b11-3ae5-408f-b7ae-d8ee75a67865\" name=\"files[]\" multiple disabled />\n",
              "     <output id=\"result-78a54b11-3ae5-408f-b7ae-d8ee75a67865\">\n",
              "      Upload widget is only available when the cell has been executed in the\n",
              "      current browser session. Please rerun this cell to enable.\n",
              "      </output>\n",
              "      <script src=\"/nbextensions/google.colab/files.js\"></script> "
            ],
            "text/plain": [
              "<IPython.core.display.HTML object>"
            ]
          },
          "metadata": {
            "tags": []
          }
        },
        {
          "output_type": "stream",
          "text": [
            "Saving data.json to data (9).json\n"
          ],
          "name": "stdout"
        },
        {
          "output_type": "execute_result",
          "data": {
            "text/plain": [
              "{'data.json': b'{\\n\\t\"Company_name_Amazon\": [\"Amazon\"],\\n\\t\"Company_name_Iconflux\" :[\"Iconflux\"],\\n\\t\"Company_name_Flipkart\" :[\"Flipkart\"],\\n\\t\"Company_name_Apple\": [\"Apple\"],\\n\\t\"Company_name_Infosys\": [\"Infosys\"],\\n\\t\"Company_name_TCS\": [\"TCS\"],\\n\\t\"Company_name_Wipro\": [\"Wipro\"],\\n\\t\"Company_name_Google\": [\"Google\"],\\n\\t\"Company_name_Yahoo\": [\"Yahoo\"],\\n\\t\"Company_name_MIndtree\": [\"Mindtree\"]\\n\\t\\n}\\n'}"
            ]
          },
          "metadata": {
            "tags": []
          },
          "execution_count": 1
        }
      ]
    },
    {
      "metadata": {
        "id": "fuZ6RbpOx-pI",
        "colab_type": "text"
      },
      "cell_type": "markdown",
      "source": [
        "**Importing all the necessary libraries**\n"
      ]
    },
    {
      "metadata": {
        "id": "TE4g1H-TyIXH",
        "colab_type": "code",
        "colab": {}
      },
      "cell_type": "code",
      "source": [
        "import nltk\n",
        "import numpy as np\n",
        "import tflearn\n",
        "import tensorflow as tf\n",
        "import random\n",
        "import json\n",
        "import string\n",
        "import unicodedata\n",
        "import sys\n",
        "\n"
      ],
      "execution_count": 0,
      "outputs": []
    },
    {
      "metadata": {
        "id": "lHHFsBXoz5_U",
        "colab_type": "text"
      },
      "cell_type": "markdown",
      "source": [
        "**Loading the data and Pre-processing**"
      ]
    },
    {
      "metadata": {
        "id": "k2od0rJpyed_",
        "colab_type": "code",
        "colab": {
          "base_uri": "https://localhost:8080/",
          "height": 88
        },
        "outputId": "e515345b-301b-487c-8477-12d49b9d7d33"
      },
      "cell_type": "code",
      "source": [
        "#This holds different punctuations in table format\n",
        "tbl = dict.fromkeys(i for i in range(sys.maxunicode)\n",
        "                    if unicodedata.category(chr(i)).startswith('P'))\n",
        "\n",
        "\n",
        "#This method removes punctuation present in text\n",
        "def remove_punctuation(text):\n",
        "    return text.translate(tbl)\n",
        "\n",
        "# variable to hold the Json data read from the file\n",
        "data = None\n",
        "\n",
        "# read the json file and load the training data\n",
        "with open(\"data (9).json\") as json_data:\n",
        "    data = json.load(json_data)\n",
        "    print(data)\n",
        "\n",
        "#list of all categories to train\n",
        "categories = list(data.keys())\n",
        "# print(categories)\n",
        "\n",
        "words = []\n",
        "# print(words)\n",
        "\n",
        "# a list of tuples with words in the sentence and category name\n",
        "docs = []\n",
        "\n",
        "for each_category in data.keys():\n",
        "    for each_sentence in data[each_category]:\n",
        "        each_sentence = remove_punctuation(each_sentence)\n",
        "#         print(each_sentence)\n",
        "        # extract words from each sentence and append to the word list\n",
        "        w = nltk.word_tokenize(each_sentence)\n",
        "        words.extend(w)\n",
        "        docs.append((w, each_category))\n",
        "\n",
        "print(words)\n",
        "print(docs)\n"
      ],
      "execution_count": 3,
      "outputs": [
        {
          "output_type": "stream",
          "text": [
            "{'Company_name_Amazon': ['Amazon'], 'Company_name_Iconflux': ['Iconflux'], 'Company_name_Flipkart': ['Flipkart'], 'Company_name_Apple': ['Apple'], 'Company_name_Infosys': ['Infosys'], 'Company_name_TCS': ['TCS'], 'Company_name_Wipro': ['Wipro'], 'Company_name_Google': ['Google'], 'Company_name_Yahoo': ['Yahoo'], 'Company_name_MIndtree': ['Mindtree']}\n",
            "['Amazon', 'Iconflux', 'Flipkart', 'Apple', 'Infosys', 'TCS', 'Wipro', 'Google', 'Yahoo', 'Mindtree']\n",
            "[(['Amazon'], 'Company_name_Amazon'), (['Iconflux'], 'Company_name_Iconflux'), (['Flipkart'], 'Company_name_Flipkart'), (['Apple'], 'Company_name_Apple'), (['Infosys'], 'Company_name_Infosys'), (['TCS'], 'Company_name_TCS'), (['Wipro'], 'Company_name_Wipro'), (['Google'], 'Company_name_Google'), (['Yahoo'], 'Company_name_Yahoo'), (['Mindtree'], 'Company_name_MIndtree')]\n"
          ],
          "name": "stdout"
        }
      ]
    },
    {
      "metadata": {
        "id": "WG82cppn0xOa",
        "colab_type": "text"
      },
      "cell_type": "markdown",
      "source": [
        "**Modelling the data according to the tensorflow specification**"
      ]
    },
    {
      "metadata": {
        "id": "aaDNgjOo0oml",
        "colab_type": "code",
        "colab": {
          "base_uri": "https://localhost:8080/",
          "height": 697
        },
        "outputId": "8ec75abf-8607-4e25-c667-e6c8fc7213fa"
      },
      "cell_type": "code",
      "source": [
        "# create our training data\n",
        "training = []\n",
        "output = []\n",
        "# create an empty array for our output\n",
        "output_empty = [0] * len(categories)\n",
        "print(output_empty)\n",
        " \n",
        "for doc in docs:\n",
        "    # initialize our bag of words for each document in the list\n",
        "    bow = []\n",
        "    # list of tokenized words for the pattern\n",
        "    token_words = doc[0]\n",
        "#     print(token_words)\n",
        "\n",
        "    for w in words:\n",
        "        bow.append(1) if w in token_words else bow.append(0)\n",
        "#         print(bow)\n",
        "#     print(bow) \n",
        "\n",
        "    output_row = list(output_empty)\n",
        "    output_row[categories.index(doc[1])] = 1\n",
        "    print(output_row)\n",
        "    # our training set will contain a the bag of words model and the output row that tells which catefory that bow belongs to.\n",
        "    training.append([bow, output_row])\n",
        " \n",
        "    # shuffle our features \n",
        "random.shuffle(training)\n",
        "training = np.array(training)\n",
        "print(training) \n",
        "\n",
        "# trainX contains the Bag of words and train_y contains the label/ category\n",
        "train_x = list(training[:,0])\n",
        "train_y = list(training[:,1])"
      ],
      "execution_count": 9,
      "outputs": [
        {
          "output_type": "stream",
          "text": [
            "[0, 0, 0, 0, 0, 0, 0, 0, 0, 0]\n",
            "[1, 0, 0, 0, 0, 0, 0, 0, 0, 0]\n",
            "[0, 1, 0, 0, 0, 0, 0, 0, 0, 0]\n",
            "[0, 0, 1, 0, 0, 0, 0, 0, 0, 0]\n",
            "[0, 0, 0, 1, 0, 0, 0, 0, 0, 0]\n",
            "[0, 0, 0, 0, 1, 0, 0, 0, 0, 0]\n",
            "[0, 0, 0, 0, 0, 1, 0, 0, 0, 0]\n",
            "[0, 0, 0, 0, 0, 0, 1, 0, 0, 0]\n",
            "[0, 0, 0, 0, 0, 0, 0, 1, 0, 0]\n",
            "[0, 0, 0, 0, 0, 0, 0, 0, 1, 0]\n",
            "[0, 0, 0, 0, 0, 0, 0, 0, 0, 1]\n",
            "[[[0 1 0 0 0 0 0 0 0 0]\n",
            "  [0 1 0 0 0 0 0 0 0 0]]\n",
            "\n",
            " [[0 0 0 1 0 0 0 0 0 0]\n",
            "  [0 0 0 1 0 0 0 0 0 0]]\n",
            "\n",
            " [[0 0 0 0 0 0 0 0 1 0]\n",
            "  [0 0 0 0 0 0 0 0 1 0]]\n",
            "\n",
            " [[0 0 0 0 0 0 1 0 0 0]\n",
            "  [0 0 0 0 0 0 1 0 0 0]]\n",
            "\n",
            " [[1 0 0 0 0 0 0 0 0 0]\n",
            "  [1 0 0 0 0 0 0 0 0 0]]\n",
            "\n",
            " [[0 0 0 0 0 1 0 0 0 0]\n",
            "  [0 0 0 0 0 1 0 0 0 0]]\n",
            "\n",
            " [[0 0 1 0 0 0 0 0 0 0]\n",
            "  [0 0 1 0 0 0 0 0 0 0]]\n",
            "\n",
            " [[0 0 0 0 0 0 0 1 0 0]\n",
            "  [0 0 0 0 0 0 0 1 0 0]]\n",
            "\n",
            " [[0 0 0 0 0 0 0 0 0 1]\n",
            "  [0 0 0 0 0 0 0 0 0 1]]\n",
            "\n",
            " [[0 0 0 0 1 0 0 0 0 0]\n",
            "  [0 0 0 0 1 0 0 0 0 0]]]\n"
          ],
          "name": "stdout"
        }
      ]
    },
    {
      "metadata": {
        "id": "JIGUciAb3Wmh",
        "colab_type": "text"
      },
      "cell_type": "markdown",
      "source": [
        "**Modelling the deep  neural network using tensorflow**"
      ]
    },
    {
      "metadata": {
        "id": "adsgAm-_3sjg",
        "colab_type": "code",
        "colab": {
          "base_uri": "https://localhost:8080/",
          "height": 309
        },
        "outputId": "4343c808-38c2-4eb1-ab85-a09bf76a5740"
      },
      "cell_type": "code",
      "source": [
        "tf.reset_default_graph()\n",
        "\n",
        "# Building neural network\n",
        "net = tflearn.input_data(shape=[None, len(train_x[0])])\n",
        "net = tflearn.fully_connected(net, 8)\n",
        "net = tflearn.fully_connected(net, 8)\n",
        "net = tflearn.fully_connected(net, len(train_y[0]), activation='softmax')\n",
        "net = tflearn.regression(net)\n",
        "\n",
        "# Defining the model\n",
        "model = tflearn.DNN(net, tensorboard_dir='tflearn_logs')\n",
        "\n",
        "# Start training (Gradient Descent)\n",
        "model.fit(train_x, train_y, n_epoch=500, batch_size=8, show_metric=True)\n",
        "model.save('model.tflearn')\n",
        "\n",
        "\n",
        "\n",
        "\n"
      ],
      "execution_count": 11,
      "outputs": [
        {
          "output_type": "stream",
          "text": [
            "Training Step: 999  | total loss: \u001b[1m\u001b[32m0.59413\u001b[0m\u001b[0m | time: 0.003s\n",
            "| Adam | epoch: 500 | loss: 0.59413 - acc: 0.8632 -- iter: 08/10\n",
            "Training Step: 1000  | total loss: \u001b[1m\u001b[32m0.59925\u001b[0m\u001b[0m | time: 0.006s\n",
            "| Adam | epoch: 500 | loss: 0.59925 - acc: 0.8769 -- iter: 10/10\n",
            "--\n",
            "INFO:tensorflow:/content/model.tflearn is not in all_model_checkpoint_paths. Manually adding it.\n",
            "['Lines', 'HasOverlay', 'False', 'Message', 'Text', 'overlay', 'is', 'not', 'provided', 'as', 'it', 'is', 'not', 'requested', '1', 'Infosys', 'Bill', 'To', 'Jeet', 'Jlvrajani', 'DESCRIPTION', 'Terms', 'Conditions', 'Payment', 'is', 'due', 'within', '15', 'days', 'Receipt', 'Receipt', 'Date', 'RECEIPT', '100', '03062018', 'TOTAL', 'AMOUNT', '200000', '200000']\n",
            "Company_name_Infosys\n",
            "['Lines', 'HasOverlay', 'False', 'Message', 'Text', 'overlay', 'is', 'not', 'provided', 'as', 'it', 'is', 'not', 'requested', '1', 'Wipro', 'Bill', 'To', 'Jeet', 'Jlvrajani', 'DESCRIPTION', 'Terms', 'Conditions', 'Payment', 'is', 'due', 'within', '15', 'days', 'Receipt', 'Receipt', 'Date', 'RECEIPT', '100', '03062018', 'TOTAL', 'AMOUNT', '200000', '200000']\n",
            "Company_name_Wipro\n",
            "['Lines', 'HasOverlay', 'False', 'Message', 'Text', 'overlay', 'is', 'not', 'provided', 'as', 'it', 'is', 'not', 'requested', '1', 'Iconflux', 'Bill', 'To', 'Jeet', 'Jlvrajani', 'DESCRIPTION', 'Terms', 'Conditions', 'Payment', 'is', 'due', 'within', '15', 'days', 'Receipt', 'Receipt', 'Date', 'RECEIPT', '100', '03062018', 'TOTAL', 'AMOUNT', '200000', '200000']\n",
            "Company_name_Iconflux\n",
            "['Lines', 'HasOverlay', 'False', 'Message', 'Text', 'overlay', 'is', 'not', 'provided', 'as', 'it', 'is', 'not', 'requested', '1', 'TCS', 'Bill', 'To', 'Jeet', 'Jlvrajani', 'DESCRIPTION', 'Terms', 'Conditions', 'Payment', 'is', 'due', 'within', '15', 'days', 'Receipt', 'Receipt', 'Date', 'RECEIPT', '100', '03062018', 'TOTAL', 'AMOUNT', '200000', '200000']\n",
            "Company_name_TCS\n",
            "['Lines', 'HasOverlay', 'False', 'Message', 'Text', 'overlay', 'is', 'not', 'provided', 'as', 'it', 'is', 'not', 'requested', '1', 'Google', 'Bill', 'To', 'Jeet', 'Jlvrajani', 'DESCRIPTION', 'Terms', 'Conditions', 'Payment', 'is', 'due', 'within', '15', 'days', 'Receipt', 'Receipt', 'Date', 'RECEIPT', '100', '03062018', 'TOTAL', 'AMOUNT', '200000', '200000']\n",
            "Company_name_Google\n"
          ],
          "name": "stdout"
        }
      ]
    },
    {
      "metadata": {
        "id": "vKBDqjof_B9A",
        "colab_type": "text"
      },
      "cell_type": "markdown",
      "source": [
        "**Prediction based on the trained model**"
      ]
    },
    {
      "metadata": {
        "id": "G6Pga-0q5P8S",
        "colab_type": "code",
        "colab": {}
      },
      "cell_type": "code",
      "source": [
        "sent_1 = \"[{'Lines': [], 'HasOverlay': False, 'Message': 'Text overlay is not provided as it is not requested'}, 1, 'Infosys \\r\\nBill To \\r\\nJeet Jlvrajani \\r\\nDESCRIPTION \\r\\nTerms & Conditions \\r\\nPayment is due within 15 days \\r\\nReceipt # \\r\\nReceipt Date \\r\\nRECEIPT \\r\\n100 \\r\\n03/06/2018 \\r\\nTOTAL \\r\\nAMOUNT \\r\\n2,000.00 \\r\\n2,000.00 \\r\\n', '', '']  \"\n",
        "sent_2 = \"[{'Lines': [], 'HasOverlay': False, 'Message': 'Text overlay is not provided as it is not requested'}, 1, 'Wipro \\r\\nBill To \\r\\nJeet Jlvrajani \\r\\nDESCRIPTION \\r\\nTerms & Conditions \\r\\nPayment is due within 15 days \\r\\nReceipt # \\r\\nReceipt Date \\r\\nRECEIPT \\r\\n100 \\r\\n03/06/2018 \\r\\nTOTAL \\r\\nAMOUNT \\r\\n2,000.00 \\r\\n2,000.00 \\r\\n', '', '']  \"\n",
        "sent_3 = \" [{'Lines': [], 'HasOverlay': False, 'Message': 'Text overlay is not provided as it is not requested'}, 1, 'Iconflux \\r\\nBill To \\r\\nJeet Jlvrajani \\r\\nDESCRIPTION \\r\\nTerms & Conditions \\r\\nPayment is due within 15 days \\r\\nReceipt # \\r\\nReceipt Date \\r\\nRECEIPT \\r\\n100 \\r\\n03/06/2018 \\r\\nTOTAL \\r\\nAMOUNT \\r\\n2,000.00 \\r\\n2,000.00 \\r\\n', '', ''] \"\n",
        "sent_4 = \"[{'Lines': [], 'HasOverlay': False, 'Message': 'Text overlay is not provided as it is not requested'}, 1, 'TCS \\r\\nBill To \\r\\nJeet Jlvrajani \\r\\nDESCRIPTION \\r\\nTerms & Conditions \\r\\nPayment is due within 15 days \\r\\nReceipt # \\r\\nReceipt Date \\r\\nRECEIPT \\r\\n100 \\r\\n03/06/2018 \\r\\nTOTAL \\r\\nAMOUNT \\r\\n2,000.00 \\r\\n2,000.00 \\r\\n', '', '']  \"\n",
        "sent_5 = \" [{'Lines': [], 'HasOverlay': False, 'Message': 'Text overlay is not provided as it is not requested'}, 1, 'Google \\r\\nBill To \\r\\nJeet Jlvrajani \\r\\nDESCRIPTION \\r\\nTerms & Conditions \\r\\nPayment is due within 15 days \\r\\nReceipt # \\r\\nReceipt Date \\r\\nRECEIPT \\r\\n100 \\r\\n03/06/2018 \\r\\nTOTAL \\r\\nAMOUNT \\r\\n2,000.00 \\r\\n2,000.00 \\r\\n', '', ''] \"\n",
        "\n",
        "\n",
        "\n",
        "\n",
        "each_sent_1 = remove_punctuation(sent_1)\n",
        "each_sent_2 = remove_punctuation(sent_2)\n",
        "each_sent_3 = remove_punctuation(sent_3)\n",
        "each_sent_4 = remove_punctuation(sent_4)\n",
        "each_sent_5 = remove_punctuation(sent_5)\n",
        "\n",
        "# a method that takes in a sentence and list of all words\n",
        "# and returns the data in a form the can be fed to tensorflow\n",
        "\n",
        "def get_tf_record(sentence):\n",
        "    global words\n",
        "    # tokenize the pattern\n",
        "    sentence_words = nltk.word_tokenize(sentence)\n",
        "    print(sentence_words)\n",
        "  \n",
        "    # bag of words\n",
        "    bow = [0]*len(words)\n",
        "    for s in sentence_words:\n",
        "        for i, w in enumerate(words):\n",
        "            if w == s:\n",
        "                bow[i] = 1\n",
        "\n",
        "    return(np.array(bow))\n",
        "\n",
        "\n",
        "#Prection of 5 sentences\n",
        "print(categories[np.argmax(model.predict([get_tf_record(each_sent_1)]))])\n",
        "print(categories[np.argmax(model.predict([get_tf_record(each_sent_2)]))])\n",
        "print(categories[np.argmax(model.predict([get_tf_record(each_sent_3)]))])\n",
        "print(categories[np.argmax(model.predict([get_tf_record(each_sent_4)]))])\n",
        "print(categories[np.argmax(model.predict([get_tf_record(each_sent_5)]))])\n",
        "\n"
      ],
      "execution_count": 0,
      "outputs": []
    }
  ]
}